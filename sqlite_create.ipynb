{
 "cells": [
  {
   "cell_type": "code",
   "execution_count": 1,
   "id": "be348016",
   "metadata": {},
   "outputs": [],
   "source": [
    "import pandas as pd\n",
    "import sqlite3"
   ]
  },
  {
   "cell_type": "code",
   "execution_count": 2,
   "id": "14956866",
   "metadata": {},
   "outputs": [],
   "source": [
    "df = pd.read_csv('rotten_tomatoes_movies.csv')"
   ]
  },
  {
   "cell_type": "code",
   "execution_count": 4,
   "id": "82734fee",
   "metadata": {},
   "outputs": [],
   "source": [
    "conn = sqlite3.connect('movies.db')"
   ]
  },
  {
   "cell_type": "code",
   "execution_count": 5,
   "id": "077581db",
   "metadata": {},
   "outputs": [],
   "source": [
    "df.to_sql('movies', conn, if_exists='replace')"
   ]
  },
  {
   "cell_type": "code",
   "execution_count": null,
   "id": "e991a32f",
   "metadata": {},
   "outputs": [],
   "source": []
  }
 ],
 "metadata": {
  "kernelspec": {
   "display_name": "Python 3 (ipykernel)",
   "language": "python",
   "name": "python3"
  },
  "language_info": {
   "codemirror_mode": {
    "name": "ipython",
    "version": 3
   },
   "file_extension": ".py",
   "mimetype": "text/x-python",
   "name": "python",
   "nbconvert_exporter": "python",
   "pygments_lexer": "ipython3",
   "version": "3.7.7"
  }
 },
 "nbformat": 4,
 "nbformat_minor": 5
}
